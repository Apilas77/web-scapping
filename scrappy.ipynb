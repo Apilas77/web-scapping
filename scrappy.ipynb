{
 "metadata": {
  "language_info": {
   "codemirror_mode": {
    "name": "ipython",
    "version": 3
   },
   "file_extension": ".py",
   "mimetype": "text/x-python",
   "name": "python",
   "nbconvert_exporter": "python",
   "pygments_lexer": "ipython3",
   "version": "3.9.0"
  },
  "orig_nbformat": 2,
  "kernelspec": {
   "name": "python390jvsc74a57bd009111655aa152cd8921f1d0d040c09ea9f391996e235275c2140aea206e660bc",
   "display_name": "Python 3.9.0 64-bit"
  },
  "metadata": {
   "interpreter": {
    "hash": "09111655aa152cd8921f1d0d040c09ea9f391996e235275c2140aea206e660bc"
   }
  }
 },
 "nbformat": 4,
 "nbformat_minor": 2,
 "cells": [
  {
   "source": [
    "# Scrapper le site de Ikea pour avoir toutes les promotions en cours"
   ],
   "cell_type": "markdown",
   "metadata": {}
  },
  {
   "cell_type": "code",
   "execution_count": 1,
   "metadata": {},
   "outputs": [
    {
     "output_type": "stream",
     "name": "stdout",
     "text": [
      "Requirement already satisfied: selenium in c:\\users\\reda\\appdata\\local\\programs\\python\\python39\\lib\\site-packages (3.141.0)\n",
      "Requirement already satisfied: urllib3 in c:\\users\\reda\\appdata\\local\\programs\\python\\python39\\lib\\site-packages (from selenium) (1.26.2)\n",
      "Note: you may need to restart the kernel to use updated packages.\n",
      "WARNING: You are using pip version 20.2.4; however, version 21.0.1 is available.\n",
      "You should consider upgrading via the 'C:\\Users\\Reda\\AppData\\Local\\Programs\\Python\\Python39\\python.exe -m pip install --upgrade pip' command.\n"
     ]
    }
   ],
   "source": [
    "pip install selenium"
   ]
  },
  {
   "cell_type": "code",
   "execution_count": 2,
   "metadata": {},
   "outputs": [],
   "source": [
    "import time\n",
    "from selenium import webdriver \n",
    "from selenium.webdriver.common.keys import Keys"
   ]
  },
  {
   "source": [
    "## Connexion "
   ],
   "cell_type": "markdown",
   "metadata": {}
  },
  {
   "cell_type": "code",
   "execution_count": 3,
   "metadata": {},
   "outputs": [],
   "source": [
    "browser = webdriver.Chrome(\"C:/driver_selenium/chromedriver.exe\")"
   ]
  },
  {
   "cell_type": "code",
   "execution_count": 4,
   "metadata": {},
   "outputs": [],
   "source": [
    "browser.get('https://www.ikea.com/fr/fr/campaigns/les-indispensables-a-petits-prix-pub0d9cd6c0?icid=fr|20210315|menu|indispensables')\n",
    "time.sleep(3)"
   ]
  },
  {
   "source": [
    "browser.maximize_window()\n",
    "time.sleep(3)"
   ],
   "cell_type": "code",
   "metadata": {},
   "execution_count": 5,
   "outputs": []
  },
  {
   "cell_type": "code",
   "execution_count": 6,
   "metadata": {},
   "outputs": [],
   "source": [
    "def accept_cookies(browser):\n",
    "    cookies = browser.find_element_by_css_selector('#onetrust-accept-btn-handler')\n",
    "    if cookies:\n",
    "        cookies.click()\n",
    "    time.sleep(3)"
   ]
  },
  {
   "cell_type": "code",
   "execution_count": 7,
   "metadata": {},
   "outputs": [],
   "source": [
    "accept_cookies(browser)"
   ]
  },
  {
   "cell_type": "code",
   "execution_count": 12,
   "metadata": {},
   "outputs": [
    {
     "output_type": "stream",
     "name": "stdout",
     "text": [
      "Travail en cours...\n",
      "['Brosse adhésive', 'Panier à linge', 'Pelle et balayette', 'Panier avec 30 pinces à linge', 'Éponge de toilette', 'Rideau de douche', 'Drap de bain', 'Porte-brosse WC', 'Porte-savon', 'Porte-brosses à dents', 'Oreiller, souple', 'Couette, légère', 'Pile alcaline', 'Bloc multiprise, 3 prises', 'Ustensiles, 3 pièces', 'Lot de 2 couteaux', 'Planche à découper flexible', 'Épluche-légumes', 'Ouvre-boîtes', 'Poêle', 'Éponge', 'Égouttoir à vaisselle', 'Sac refermable', 'Boîte de conservation', 'Mug', 'Assiette', 'Ménagère 16 pièces', 'Passoire', 'Plateau', 'Verre', 'Bol', 'Rangement chaussures', 'Cintre', 'Sac de rangement', 'Boîte avec couvercle', 'Rangement tissu', 'Grand sac', 'Poubelle', 'Paillasson']\n",
      "['Brosse adhésive', 'Panier à linge', 'Pelle et balayette', 'Panier avec 30 pinces à linge', 'Éponge de toilette', 'Rideau de douche', 'Drap de bain', 'Porte-brosse WC', 'Porte-savon', 'Porte-brosses à dents', 'Oreiller, souple', 'Couette, légère', 'Pile alcaline', 'Bloc multiprise, 3 prises', 'Ustensiles, 3 pièces', 'Lot de 2 couteaux', 'Planche à découper flexible', 'Épluche-légumes', 'Ouvre-boîtes', 'Poêle', 'Éponge', 'Égouttoir à vaisselle', 'Sac refermable', 'Boîte de conservation', 'Mug', 'Assiette', 'Ménagère 16 pièces', 'Passoire', 'Plateau', 'Verre', 'Bol', 'Rangement chaussures', 'Cintre', 'Sac de rangement', 'Boîte avec couvercle', 'Rangement tissu', 'Grand sac', 'Poubelle', 'Paillasson', 'Portant', 'Séchoir, intérieur/extérieur', 'Sac à linge', 'Housse pour table à repasser', 'Drap housse', 'Couette, légère', 'Rangement 7 compartiments', 'Panier à linge souple, int/ext', 'Serviette', 'Tapis de bain', 'Accessoires bain, 3 pièces', 'Miroir', 'Étagère', 'Poubelle à pédale', 'Horloge/thermomètre/réveil', 'Horloge murale', 'Miroir', 'Égouttoir à vaisselle', 'Ménagère 24 pièces', 'Verre', 'Carafe+bouchon', 'Boîte de conservation', 'Saladier', 'Casserole, lot de 3', 'Couteau, 3 pièces', 'Cafetière/théière', 'Plat /plat à four', 'Planche à découper', 'Tableau-mémo avec punaises', 'Lampe USB à LED', 'Chargeur de piles', 'Chargeur USB 3 ports', 'Set de 200 vis à bois', 'Lot de 17 outils', 'Paillasson', 'Boîte avec couvercle', 'Support pour tablette', 'Support ordinateur portable']\n",
      "['Brosse adhésive', 'Panier à linge', 'Pelle et balayette', 'Panier avec 30 pinces à linge', 'Éponge de toilette', 'Rideau de douche', 'Drap de bain', 'Porte-brosse WC', 'Porte-savon', 'Porte-brosses à dents', 'Oreiller, souple', 'Couette, légère', 'Pile alcaline', 'Bloc multiprise, 3 prises', 'Ustensiles, 3 pièces', 'Lot de 2 couteaux', 'Planche à découper flexible', 'Épluche-légumes', 'Ouvre-boîtes', 'Poêle', 'Éponge', 'Égouttoir à vaisselle', 'Sac refermable', 'Boîte de conservation', 'Mug', 'Assiette', 'Ménagère 16 pièces', 'Passoire', 'Plateau', 'Verre', 'Bol', 'Rangement chaussures', 'Cintre', 'Sac de rangement', 'Boîte avec couvercle', 'Rangement tissu', 'Grand sac', 'Poubelle', 'Paillasson', 'Portant', 'Séchoir, intérieur/extérieur', 'Sac à linge', 'Housse pour table à repasser', 'Drap housse', 'Couette, légère', 'Rangement 7 compartiments', 'Panier à linge souple, int/ext', 'Serviette', 'Tapis de bain', 'Accessoires bain, 3 pièces', 'Miroir', 'Étagère', 'Poubelle à pédale', 'Horloge/thermomètre/réveil', 'Horloge murale', 'Miroir', 'Égouttoir à vaisselle', 'Ménagère 24 pièces', 'Verre', 'Carafe+bouchon', 'Boîte de conservation', 'Saladier', 'Casserole, lot de 3', 'Couteau, 3 pièces', 'Cafetière/théière', 'Plat /plat à four', 'Planche à découper', 'Tableau-mémo avec punaises', 'Lampe USB à LED', 'Chargeur de piles', 'Chargeur USB 3 ports', 'Set de 200 vis à bois', 'Lot de 17 outils', 'Paillasson', 'Boîte avec couvercle', 'Support pour tablette', 'Support ordinateur portable', 'Séchoir, intérieur/extérieur', 'Sac à linge', 'Patère 7 crochets', 'Drap housse', 'Boîte, 3 pièces', 'Nappe', 'Verre à vin rouge', 'Batterie de cuisine, 3 pièces', 'Passoire', 'Plat à four', 'Couteau universel', 'Planche à découper', 'Théière', 'Bouilloire', 'Plateau de lit', 'Range-bouteilles 9 places', 'Support tablette', 'Boîte', 'Miroir', 'Chaise pliante', 'Poubelle avec couvercle', 'Étagère', 'Étagère', 'Rangement tissu', 'Boîte de rangement avec couvercle', 'Prise quadruple 2 ports USB', 'Chargeur USB avec pince', \"Panneau d'accrochage avec aimants\", 'Spot à pince à LED', 'Bagage cabine à roulettes', 'Chariot', 'Niveau à bulle laser']\n"
     ]
    }
   ],
   "source": [
    "marques = []\n",
    "prix = []\n",
    "noms = []\n",
    "nb_comments = []\n",
    "ratings = []\n",
    "\"\"\" Cliqer sur les urls \"\"\"\n",
    "print('Travail en cours...')\n",
    "selector_css = \".c130l69h .hqs7k6k > a\"\n",
    "links =browser.find_elements_by_css_selector(selector_css)\n",
    "for index in range(0, len(links)):\n",
    "    url = browser.find_elements_by_css_selector(selector_css)[index]\n",
    "    url.click()\n",
    "    elements = browser.find_elements_by_css_selector('.range-revamp-product-compact')\n",
    "    for elt in range(0,len(elements)):\n",
    "        marque =  browser.find_elements_by_class_name('range-revamp-header-section__title--small')\n",
    "        price = browser.find_elements_by_class_name('range-revamp-price')\n",
    "        nom = browser.find_elements_by_class_name('range-revamp-header-section__description-text')\n",
    "        ratings= browser.find_elements_by_class_name('range-revamp-average-rating')\n",
    "        comments = browser.find_elements_by_class_name('range-revamp-average-rating__reviews')\n",
    "    for i in marque:\n",
    "        marques.append(i.text)\n",
    "    for j in price:\n",
    "        prix.append(re.findall('([\\d+,]+)', j.text)[0])\n",
    "    for k in nom:\n",
    "        noms.append(k.text)\n",
    "    for h in comments:\n",
    "        nb_comments.append(h.text)\n",
    "    for f in ratings:\n",
    "        tompo = f.get_attribute('aria-label')\n",
    "        notations.append(re.findall('Avis:\\s([\\d+.]+)', tompo)[0])\n",
    "browser.back()\n",
    "    time.sleep(2)\n",
    "    # print(marques)\n",
    "    print(noms)\n",
    "\n"
   ]
  },
  {
   "cell_type": "code",
   "execution_count": 7,
   "metadata": {},
   "outputs": [
    {
     "output_type": "stream",
     "name": "stdout",
     "text": [
      "Requirement already satisfied: pandas in c:\\users\\reda\\appdata\\local\\programs\\python\\python39\\lib\\site-packages (1.2.3)\n",
      "Requirement already satisfied: numpy>=1.16.5 in c:\\users\\reda\\appdata\\local\\programs\\python\\python39\\lib\\site-packages (from pandas) (1.19.5)\n",
      "Requirement already satisfied: python-dateutil>=2.7.3 in c:\\users\\reda\\appdata\\roaming\\python\\python39\\site-packages (from pandas) (2.8.1)\n",
      "Requirement already satisfied: pytz>=2017.3 in c:\\users\\reda\\appdata\\local\\programs\\python\\python39\\lib\\site-packages (from pandas) (2020.4)\n",
      "Requirement already satisfied: six>=1.5 in c:\\users\\reda\\appdata\\roaming\\python\\python39\\site-packages (from python-dateutil>=2.7.3->pandas) (1.15.0)\n",
      "Note: you may need to restart the kernel to use updated packages.\n",
      "WARNING: You are using pip version 20.2.4; however, version 21.0.1 is available.\n",
      "You should consider upgrading via the 'C:\\Users\\Reda\\AppData\\Local\\Programs\\Python\\Python39\\python.exe -m pip install --upgrade pip' command.\n"
     ]
    }
   ],
   "source": [
    "pip install pandas"
   ]
  },
  {
   "cell_type": "code",
   "execution_count": 12,
   "metadata": {},
   "outputs": [],
   "source": [
    "import pandas as pd"
   ]
  },
  {
   "cell_type": "code",
   "execution_count": 18,
   "metadata": {},
   "outputs": [
    {
     "output_type": "execute_result",
     "data": {
      "text/plain": [
       "      marque                           nom     prix nombre de commentaires\n",
       "0    Inconnu               Brosse adhésive  Inconnu                Inconnu\n",
       "1    Inconnu               Brosse adhésive  Inconnu                Inconnu\n",
       "2    Inconnu               Brosse adhésive  Inconnu                Inconnu\n",
       "3    Inconnu               Brosse adhésive  Inconnu                Inconnu\n",
       "4    Inconnu               Brosse adhésive  Inconnu                Inconnu\n",
       "..       ...                           ...      ...                    ...\n",
       "104  Inconnu  Séchoir, intérieur/extérieur  Inconnu                Inconnu\n",
       "105  Inconnu  Séchoir, intérieur/extérieur  Inconnu                Inconnu\n",
       "106  Inconnu  Séchoir, intérieur/extérieur  Inconnu                Inconnu\n",
       "107  Inconnu  Séchoir, intérieur/extérieur  Inconnu                Inconnu\n",
       "108  Inconnu  Séchoir, intérieur/extérieur  Inconnu                Inconnu\n",
       "\n",
       "[109 rows x 4 columns]"
      ],
      "text/html": "<div>\n<style scoped>\n    .dataframe tbody tr th:only-of-type {\n        vertical-align: middle;\n    }\n\n    .dataframe tbody tr th {\n        vertical-align: top;\n    }\n\n    .dataframe thead th {\n        text-align: right;\n    }\n</style>\n<table border=\"1\" class=\"dataframe\">\n  <thead>\n    <tr style=\"text-align: right;\">\n      <th></th>\n      <th>marque</th>\n      <th>nom</th>\n      <th>prix</th>\n      <th>nombre de commentaires</th>\n    </tr>\n  </thead>\n  <tbody>\n    <tr>\n      <th>0</th>\n      <td>Inconnu</td>\n      <td>Brosse adhésive</td>\n      <td>Inconnu</td>\n      <td>Inconnu</td>\n    </tr>\n    <tr>\n      <th>1</th>\n      <td>Inconnu</td>\n      <td>Brosse adhésive</td>\n      <td>Inconnu</td>\n      <td>Inconnu</td>\n    </tr>\n    <tr>\n      <th>2</th>\n      <td>Inconnu</td>\n      <td>Brosse adhésive</td>\n      <td>Inconnu</td>\n      <td>Inconnu</td>\n    </tr>\n    <tr>\n      <th>3</th>\n      <td>Inconnu</td>\n      <td>Brosse adhésive</td>\n      <td>Inconnu</td>\n      <td>Inconnu</td>\n    </tr>\n    <tr>\n      <th>4</th>\n      <td>Inconnu</td>\n      <td>Brosse adhésive</td>\n      <td>Inconnu</td>\n      <td>Inconnu</td>\n    </tr>\n    <tr>\n      <th>...</th>\n      <td>...</td>\n      <td>...</td>\n      <td>...</td>\n      <td>...</td>\n    </tr>\n    <tr>\n      <th>104</th>\n      <td>Inconnu</td>\n      <td>Séchoir, intérieur/extérieur</td>\n      <td>Inconnu</td>\n      <td>Inconnu</td>\n    </tr>\n    <tr>\n      <th>105</th>\n      <td>Inconnu</td>\n      <td>Séchoir, intérieur/extérieur</td>\n      <td>Inconnu</td>\n      <td>Inconnu</td>\n    </tr>\n    <tr>\n      <th>106</th>\n      <td>Inconnu</td>\n      <td>Séchoir, intérieur/extérieur</td>\n      <td>Inconnu</td>\n      <td>Inconnu</td>\n    </tr>\n    <tr>\n      <th>107</th>\n      <td>Inconnu</td>\n      <td>Séchoir, intérieur/extérieur</td>\n      <td>Inconnu</td>\n      <td>Inconnu</td>\n    </tr>\n    <tr>\n      <th>108</th>\n      <td>Inconnu</td>\n      <td>Séchoir, intérieur/extérieur</td>\n      <td>Inconnu</td>\n      <td>Inconnu</td>\n    </tr>\n  </tbody>\n</table>\n<p>109 rows × 4 columns</p>\n</div>"
     },
     "metadata": {},
     "execution_count": 18
    }
   ],
   "source": [
    "pd.DataFrame({'marque': marques, 'nom': noms, 'prix': prix, 'nombre de commentaires': nb_comments})"
   ]
  },
  {
   "cell_type": "code",
   "execution_count": 17,
   "metadata": {},
   "outputs": [],
   "source": [
    "import re"
   ]
  },
  {
   "cell_type": "code",
   "execution_count": 39,
   "metadata": {
    "tags": []
   },
   "outputs": [
    {
     "output_type": "stream",
     "name": "stdout",
     "text": [
      "['4.6', '4.8', '3.9', '4.1', '4.2', '4.5', '4.4', '4.4', '4.5', '4.7', '4', '4.5', '4.6', '4.6', '4.5', '4.7', '4.4', '3.1', '3.5', '4.2', '4', '4.6', '4.8', '4.6', '4.5', '4.5', '4.4', '4.3', '4.5', '4.7', '4.8', '4.4', '4.4', '4.7', '4.5', '4.8', '4.7', '4.7', '4.3']\n"
     ]
    }
   ],
   "source": [
    "marques = []\n",
    "prix = []\n",
    "noms = []\n",
    "nb_comments = []\n",
    "notations = []\n",
    "elements = browser.find_elements_by_css_selector('.range-revamp-product-compact')\n",
    "for elt in range(0,len(elements)):\n",
    "    marque =  elements[elt].find_element_by_class_name('range-revamp-header-section__title--small')\n",
    "    price = elements[elt].find_element_by_class_name('range-revamp-price')\n",
    "    nom = elements[elt].find_element_by_class_name('range-revamp-header-section__description-text')\n",
    "    ratings= elements[elt].find_element_by_class_name('range-revamp-average-rating')\n",
    "    comments = elements[elt].find_element_by_class_name('range-revamp-average-rating__reviews')\n",
    "    \n",
    "    marques.append(marque.text)\n",
    "\n",
    "    prix.append(re.findall('([\\d+,]+)', price.text)[0])\n",
    "\n",
    "    noms.append(nom.text)\n",
    "\n",
    "    nb_comments.append(comments.text)\n",
    "\n",
    "    tompo = ratings.get_attribute('aria-label')\n",
    "    notations.append(re.findall('Avis:\\s([\\d+.]+)', tompo)[0])\n",
    "print(notations)\n",
    "\n",
    "#TODO rétablir la liste des notes et le faire valider par tous le monde.\n"
   ]
  },
  {
   "cell_type": "code",
   "execution_count": null,
   "metadata": {},
   "outputs": [],
   "source": []
  }
 ]
}