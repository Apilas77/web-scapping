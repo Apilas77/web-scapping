{
 "metadata": {
  "language_info": {
   "codemirror_mode": {
    "name": "ipython",
    "version": 3
   },
   "file_extension": ".py",
   "mimetype": "text/x-python",
   "name": "python",
   "nbconvert_exporter": "python",
   "pygments_lexer": "ipython3",
   "version": "3.9.0-final"
  },
  "orig_nbformat": 2,
  "kernelspec": {
   "name": "python3",
   "display_name": "Python 3.9.0 64-bit",
   "metadata": {
    "interpreter": {
     "hash": "7812ea015bdcee6f23a998adcdd2ef97c151c0c241b7b7070987d9313e41299d"
    }
   }
  }
 },
 "nbformat": 4,
 "nbformat_minor": 2,
 "cells": [
  {
   "source": [
    "# Scraping [Cultura](https://www.cultura.com/boutiques/des-prix-des-promos.html)"
   ],
   "cell_type": "markdown",
   "metadata": {}
  },
  {
   "source": [
    "## Initialisation"
   ],
   "cell_type": "markdown",
   "metadata": {}
  },
  {
   "cell_type": "code",
   "execution_count": null,
   "metadata": {},
   "outputs": [],
   "source": [
    "import time\n",
    "import random\n",
    "import re\n",
    "from pprint import pprint\n",
    "\n",
    "from selenium import webdriver \n",
    "from selenium.webdriver.common.keys import Keys\n",
    "from pymongo import MongoClient"
   ]
  },
  {
   "cell_type": "code",
   "execution_count": null,
   "metadata": {},
   "outputs": [],
   "source": [
    "browser = webdriver.Chrome('/usr/local/bin/chromedriver')\n",
    "\n",
    "url_to_scrap = \"https://www.ikea.com/fr/fr/campaigns/les-indispensables-a-petits-prix-pub0d9cd6c0?icid=fr|20210315|menu|indispensables\"\n",
    "\n",
    "browser.get(url_to_scrap)\n",
    "\n",
    "# Click to accept cookies\n",
    "time.sleep(2)\n",
    "accept_cookie_button = browser.find_element_by_css_selector('#onetrust-accept-btn-handler')\n",
    "accept_cookie_button.click()"
   ]
  },
  {
   "source": [
    "## Parcourir un site"
   ],
   "cell_type": "markdown",
   "metadata": {}
  },
  {
   "cell_type": "code",
   "execution_count": null,
   "metadata": {},
   "outputs": [],
   "source": [
    "def random_sleep() :\n",
    "    ''' Pause aléatoire de maximum 3 secondes '''\n",
    "    random_number = random.random() * 3 # entre 0 et 3 secondes\n",
    "    time.sleep(random_number)"
   ]
  },
  {
   "cell_type": "code",
   "execution_count": null,
   "metadata": {},
   "outputs": [],
   "source": [
    "def get_products(browser, title):\n",
    "    elements = browser.find_elements_by_css_selector('.range-revamp-product-compact')\n",
    "    data_elements = []\n",
    "    for elt in elements:\n",
    "        data_element = {}\n",
    "        data_element['title'] = title\n",
    "        data_element['brand'] =  elt.find_element_by_class_name('range-revamp-header-section__title--small').text\n",
    "        data_element['price'] = elt.find_element_by_class_name('range-revamp-price').text\n",
    "        data_element['name'] = elt.find_element_by_class_name('range-revamp-header-section__description-text').text\n",
    "        data_element['rating'] = elt.find_element_by_class_name('range-revamp-average-rating').get_attribute('aria-label')\n",
    "        data_element['comments'] = elt.find_element_by_class_name('range-revamp-average-rating__reviews').text\n",
    "\n",
    "        data_element['price'] = float(re.findall('([\\d+,]+)', data_element['price'])[0].replace(',','.'))\n",
    "        data_element['comments'] = int(data_element['comments'].strip('()'))\n",
    "        data_element['rating'] = float(re.findall('Avis:\\s([\\d+.]+)', data_element['rating'])[0].replace(',','.'))\n",
    "        data_elements.append(data_element)\n",
    "\n",
    "    return data_elements"
   ]
  },
  {
   "cell_type": "code",
   "execution_count": null,
   "metadata": {},
   "outputs": [],
   "source": [
    "def parse_urls() :\n",
    "    ''' Clique sur les urls '''\n",
    "    print(\"Browsing...\")\n",
    "\n",
    "    selector_css = \".c130l69h .hqs7k6k > a\"\n",
    "    links = browser.find_elements_by_css_selector(selector_css)\n",
    "\n",
    "    data_list = []\n",
    "\n",
    "    for index in range(0, len(links)) :\n",
    "        random_sleep()\n",
    "        url = browser.find_elements_by_css_selector(selector_css)[index]\n",
    "        title = url.text\n",
    "        url.click()\n",
    "        # An implicit wait tells WebDriver to poll the DOM for a certain amount of time when trying to find\n",
    "        # any element (or elements) not immediately available.\n",
    "        browser.implicitly_wait(10) \n",
    "        products = get_products(browser, title)\n",
    "        data_list = data_list + products\n",
    "        browser.back()\n",
    "\n",
    "    print(\"Browsing done.\")\n",
    "\n",
    "    return data_list\n",
    "\n",
    "# Execution\n",
    "IKEA_data = parse_urls()\n",
    "pprint(IKEA_data)"
   ]
  },
  {
   "source": [
    "## MongoDB"
   ],
   "cell_type": "markdown",
   "metadata": {}
  },
  {
   "cell_type": "code",
   "execution_count": null,
   "metadata": {},
   "outputs": [],
   "source": [
    "# Connexion MongoDB\n",
    "try:\n",
    "    client = MongoClient('localhost', 27017)\n",
    "    db = client.IKEA_scraping\n",
    "    products = db.products\n",
    "except:\n",
    "    print(\"Ooups! la connexion n'a pas pu abouti\")"
   ]
  },
  {
   "cell_type": "code",
   "execution_count": null,
   "metadata": {
    "tags": []
   },
   "outputs": [],
   "source": [
    "# Envoi vers MongoDB\n",
    "def export_to_mongo():\n",
    "    for index, data in enumerate(IKEA_data):\n",
    "        json_to_import = data\n",
    "        \n",
    "        products.insert_one(json_to_import)\n",
    "\n",
    "export_to_mongo()"
   ]
  },
  {
   "cell_type": "code",
   "execution_count": null,
   "metadata": {
    "tags": []
   },
   "outputs": [],
   "source": [
    "# Récupération depuis MongoDB\n",
    "my_products_mongo = products.find({}).limit(12)\n",
    "[pprint(product) for product in my_products_mongo]"
   ]
  },
  {
   "source": [
    "## Récupération des pages"
   ],
   "cell_type": "markdown",
   "metadata": {}
  },
  {
   "cell_type": "code",
   "execution_count": null,
   "metadata": {},
   "outputs": [],
   "source": [
    "# Récupérer tous les 'title'\n",
    "all_title = products.distinct(\"title\")\n",
    "pprint(all_title)"
   ]
  },
  {
   "source": [
    "## Le produit le mieux noté pour chaque page"
   ],
   "cell_type": "markdown",
   "metadata": {}
  },
  {
   "cell_type": "code",
   "execution_count": null,
   "metadata": {},
   "outputs": [],
   "source": [
    "# Le produit le mieux noté pour chaque page\n",
    "highest_rating = []\n",
    "\n",
    "for title in all_title:\n",
    "    match = {\n",
    "        \"$match\": {\"title\": title}\n",
    "    }\n",
    "    project = {\"$project\": {\"_id\": 0}}\n",
    "    limit = {\"$limit\": 1}\n",
    "    sort = {\n",
    "        \"$sort\": {\"rating\": -1}\n",
    "    }\n",
    "\n",
    "    highest_rating.append(list(products.aggregate([match, project, sort, limit]))[0])\n",
    "\n",
    "[product for product in highest_rating]"
   ]
  },
  {
   "source": [
    "## La moyenne des prix pour chaque page"
   ],
   "cell_type": "markdown",
   "metadata": {}
  },
  {
   "cell_type": "code",
   "execution_count": null,
   "metadata": {},
   "outputs": [],
   "source": [
    "# La moyenne des prix pour chaque page\n",
    "group = {\n",
    "    \"$group\": {\"_id\": \"$title\", \"average\": {\"$avg\": \"$price\"}}\n",
    "}\n",
    "sort = {\n",
    "    \"$sort\": {\"price\": -1}\n",
    "}\n",
    "\n",
    "average_price = products.aggregate([group, sort])\n",
    "\n",
    "[average for average in average_price]"
   ]
  },
  {
   "source": [
    "## La quantité de produit dans une page"
   ],
   "cell_type": "markdown",
   "metadata": {}
  },
  {
   "cell_type": "code",
   "execution_count": null,
   "metadata": {},
   "outputs": [],
   "source": [
    "# La quantité de produit dans une page\n",
    "group = {\n",
    "    \"$group\": {\"_id\": \"$title\", \"quantity\": {\"$sum\": 1}}\n",
    "}\n",
    "sort = {\n",
    "    \"$sort\": {\"quantity\": -1}\n",
    "}\n",
    "\n",
    "quantities = products.aggregate([group, sort])\n",
    "\n",
    "[quantity for quantity in quantities]"
   ]
  },
  {
   "cell_type": "code",
   "execution_count": null,
   "metadata": {},
   "outputs": [],
   "source": []
  }
 ]
}