{
 "metadata": {
  "language_info": {
   "codemirror_mode": {
    "name": "ipython",
    "version": 3
   },
   "file_extension": ".py",
   "mimetype": "text/x-python",
   "name": "python",
   "nbconvert_exporter": "python",
   "pygments_lexer": "ipython3",
   "version": "3.9.0-final"
  },
  "orig_nbformat": 2,
  "kernelspec": {
   "name": "python3",
   "display_name": "Python 3.9.0 64-bit",
   "metadata": {
    "interpreter": {
     "hash": "7812ea015bdcee6f23a998adcdd2ef97c151c0c241b7b7070987d9313e41299d"
    }
   }
  }
 },
 "nbformat": 4,
 "nbformat_minor": 2,
 "cells": [
  {
   "source": [
    "# Scraping [Cultura](https://www.cultura.com/boutiques/des-prix-des-promos.html)"
   ],
   "cell_type": "markdown",
   "metadata": {}
  },
  {
   "source": [
    "## Initialisation"
   ],
   "cell_type": "markdown",
   "metadata": {}
  },
  {
   "cell_type": "code",
   "execution_count": null,
   "metadata": {},
   "outputs": [],
   "source": [
    "import time\n",
    "import random\n",
    "import re\n",
    "from pprint import pprint\n",
    "\n",
    "from selenium import webdriver \n",
    "from selenium.webdriver.common.keys import Keys\n",
    "from pymongo import MongoClient"
   ]
  },
  {
   "cell_type": "code",
   "execution_count": null,
   "metadata": {},
   "outputs": [],
   "source": [
    "browser = webdriver.Chrome('/usr/local/bin/chromedriver')\n",
    "\n",
    "url_to_scrap = \"https://www.ikea.com/fr/fr/campaigns/les-indispensables-a-petits-prix-pub0d9cd6c0?icid=fr|20210315|menu|indispensables\"\n",
    "\n",
    "browser.get(url_to_scrap)\n",
    "\n",
    "# Click to accept cookies\n",
    "time.sleep(2)\n",
    "accept_cookie_button = browser.find_element_by_css_selector('#onetrust-accept-btn-handler')\n",
    "accept_cookie_button.click()"
   ]
  },
  {
   "source": [
    "## Cliquer sur chaque lien de promotion"
   ],
   "cell_type": "markdown",
   "metadata": {}
  },
  {
   "cell_type": "code",
   "execution_count": null,
   "metadata": {},
   "outputs": [],
   "source": [
    "def random_sleep() :\n",
    "    ''' Pause aléatoire de maximum 3 secondes '''\n",
    "    random_number = random.random() * 3 # entre 0 et 3 secondes\n",
    "    time.sleep(random_number)"
   ]
  },
  {
   "cell_type": "code",
   "execution_count": null,
   "metadata": {},
   "outputs": [],
   "source": [
    "def get_products(browser):\n",
    "    elements = browser.find_elements_by_css_selector('.range-revamp-product-compact')\n",
    "    data_elements = []\n",
    "    for elt in elements:\n",
    "        data_element = {}\n",
    "        data_element['marque'] =  elt.find_element_by_class_name('range-revamp-header-section__title--small').text\n",
    "        data_element['price'] = elt.find_element_by_class_name('range-revamp-price').text\n",
    "        data_element['nom'] = elt.find_element_by_class_name('range-revamp-header-section__description-text').text\n",
    "        data_element['ratings'] = elt.find_element_by_class_name('range-revamp-average-rating').get_attribute('aria-label')\n",
    "        data_element['comments'] = elt.find_element_by_class_name('range-revamp-average-rating__reviews').text\n",
    "\n",
    "        data_element['price'] = re.findall('([\\d+,]+)', data_element['price'])[0]\n",
    "        data_element['comments'] = data_element['comments'].strip('()')\n",
    "        data_element['ratings'] = (re.findall('Avis:\\s([\\d+.]+)', data_element['ratings'])[0])\n",
    "        data_elements.append(data_element)\n",
    "    return data_elements"
   ]
  },
  {
   "cell_type": "code",
   "execution_count": null,
   "metadata": {},
   "outputs": [],
   "source": [
    "def parse_urls() :\n",
    "    ''' Clique sur les urls '''\n",
    "    print(\"Browsing...\")\n",
    "\n",
    "    selector_css = \".c130l69h .hqs7k6k > a\"\n",
    "    links = browser.find_elements_by_css_selector(selector_css)\n",
    "\n",
    "    data_list = []\n",
    "\n",
    "    for index in range(0, len(links)) :\n",
    "        random_sleep()\n",
    "        url = browser.find_elements_by_css_selector(selector_css)[index]\n",
    "        url.click()\n",
    "        products = get_products(browser)\n",
    "        data_list.append(products)\n",
    "        time.sleep(3)\n",
    "        browser.back()\n",
    "\n",
    "    print(\"Browsing done.\")\n",
    "\n",
    "    return data_list\n",
    "\n",
    "# Execution\n",
    "IKEA_data = parse_urls()\n",
    "#pprint(IKEA_data)"
   ]
  },
  {
   "cell_type": "code",
   "execution_count": null,
   "metadata": {},
   "outputs": [],
   "source": [
    "# Connexion MongoDB\n",
    "try:\n",
    "    client = MongoClient('localhost', 27017)\n",
    "    db = client.IKEA_scraping\n",
    "    products = db.products\n",
    "except:\n",
    "    print(\"Ooups! la connexion n'a pas pu abouti\")"
   ]
  },
  {
   "cell_type": "code",
   "execution_count": 58,
   "metadata": {
    "tags": []
   },
   "outputs": [
    {
     "output_type": "stream",
     "name": "stdout",
     "text": [
      "{'data': [{'comments': '164',\n           'marque': 'BÄSTIS',\n           'nom': 'Brosse adhésive',\n           'price': '1',\n           'ratings': '4.6'},\n          {'comments': '60',\n           'marque': 'BLASKA',\n           'nom': 'Panier à linge',\n           'price': '3,99',\n           'ratings': '4.8'},\n          {'comments': '184',\n           'marque': 'BLASKA',\n           'nom': 'Pelle et balayette',\n           'price': '1,50',\n           'ratings': '3.9'},\n          {'comments': '59',\n           'marque': 'TORKIS',\n           'nom': 'Panier avec 30 pinces à linge',\n           'price': '2,99',\n           'ratings': '4.1'},\n          {'comments': '117',\n           'marque': 'ÅBYÅN',\n           'nom': 'Éponge de toilette',\n           'price': '2,99',\n           'ratings': '4.2'},\n          {'comments': '46',\n           'marque': 'BJÄRSEN',\n           'nom': 'Rideau de douche',\n           'price': '1,99',\n           'ratings': '4.5'},\n          {'comments': '57',\n           'marque': 'VÅGSJÖN',\n           'nom': 'Drap de bain',\n           'price': '4,99',\n           'ratings': '4.4'},\n          {'comments': '135',\n           'marque': 'BOLMEN',\n           'nom': 'Porte-brosse WC',\n           'price': '1,25',\n           'ratings': '4.4'},\n          {'comments': '65',\n           'marque': 'EKOLN',\n           'nom': 'Porte-savon',\n           'price': '2',\n           'ratings': '4.5'},\n          {'comments': '63',\n           'marque': 'EKOLN',\n           'nom': 'Porte-brosses à dents',\n           'price': '3',\n           'ratings': '4.7'},\n          {'comments': '49',\n           'marque': 'SKÖLDBLAD',\n           'nom': 'Oreiller, souple',\n           'price': '2,99',\n           'ratings': '4'},\n          {'comments': '99',\n           'marque': 'SILVERTOPP',\n           'nom': 'Couette, légère',\n           'price': '3,99',\n           'ratings': '4.5'},\n          {'comments': '252',\n           'marque': 'ALKALISK',\n           'nom': 'Pile alcaline',\n           'price': '1,75',\n           'ratings': '4.6'},\n          {'comments': '122',\n           'marque': 'KOPPLA',\n           'nom': 'Bloc multiprise, 3 prises',\n           'price': '3,99',\n           'ratings': '4.6'},\n          {'comments': '64',\n           'marque': 'GNARP',\n           'nom': 'Ustensiles, 3 pièces',\n           'price': '1,49',\n           'ratings': '4.5'},\n          {'comments': '26',\n           'marque': 'FÖRDUBBLA',\n           'nom': 'Lot de 2 couteaux',\n           'price': '2,99',\n           'ratings': '4.7'},\n          {'comments': '140',\n           'marque': 'FINFÖRDELA',\n           'nom': 'Planche à découper flexible',\n           'price': '1,49',\n           'ratings': '4.4'},\n          {'comments': '28',\n           'marque': 'STÄM',\n           'nom': 'Épluche-légumes',\n           'price': '1,99',\n           'ratings': '3.1'},\n          {'comments': '25',\n           'marque': 'STÄM',\n           'nom': 'Ouvre-boîtes',\n           'price': '2,99',\n           'ratings': '3.5'},\n          {'comments': '120',\n           'marque': 'KAVALKAD',\n           'nom': 'Poêle',\n           'price': '3,99',\n           'ratings': '4.2'},\n          {'comments': '63',\n           'marque': 'SVAMPIG',\n           'nom': 'Éponge',\n           'price': '1,29',\n           'ratings': '4'},\n          {'comments': '186',\n           'marque': 'FLUNDRA',\n           'nom': 'Égouttoir à vaisselle',\n           'price': '1,99',\n           'ratings': '4.6'},\n          {'comments': '522',\n           'marque': 'ISTAD',\n           'nom': 'Sac refermable',\n           'price': '1,99',\n           'ratings': '4.8'},\n          {'comments': '181',\n           'marque': 'PRUTA',\n           'nom': 'Boîte de conservation',\n           'price': '1',\n           'ratings': '4.6'},\n          {'comments': '75',\n           'marque': 'IKEA 365+',\n           'nom': 'Mug',\n           'price': '1,49',\n           'ratings': '4.5'},\n          {'comments': '33',\n           'marque': 'FLITIGHET',\n           'nom': 'Assiette',\n           'price': '1,79',\n           'ratings': '4.5'},\n          {'comments': '131',\n           'marque': 'MOPSIG',\n           'nom': 'Ménagère 16 pièces',\n           'price': '4,99',\n           'ratings': '4.4'},\n          {'comments': '57',\n           'marque': 'VISPAD',\n           'nom': 'Passoire',\n           'price': '2,99',\n           'ratings': '4.3'},\n          {'comments': '83',\n           'marque': 'TILLGÅNG',\n           'nom': 'Plateau',\n           'price': '1,99',\n           'ratings': '4.5'},\n          {'comments': '68',\n           'marque': 'VARDAGEN',\n           'nom': 'Verre',\n           'price': '3,99',\n           'ratings': '4.7'},\n          {'comments': '24',\n           'marque': 'VARDAGEN',\n           'nom': 'Bol',\n           'price': '1,50',\n           'ratings': '4.8'},\n          {'comments': '182',\n           'marque': 'MURVEL',\n           'nom': 'Rangement chaussures',\n           'price': '1,20',\n           'ratings': '4.4'},\n          {'comments': '390',\n           'marque': 'SPRUTTIG',\n           'nom': 'Cintre',\n           'price': '1,49',\n           'ratings': '4.4'},\n          {'comments': '292',\n           'marque': 'PÄRKLA',\n           'nom': 'Sac de rangement',\n           'price': '1,99',\n           'ratings': '4.7'},\n          {'comments': '1144',\n           'marque': 'SAMLA',\n           'nom': 'Boîte avec couvercle',\n           'price': '2,99',\n           'ratings': '4.5'},\n          {'comments': '529',\n           'marque': 'DRÖNA',\n           'nom': 'Rangement tissu',\n           'price': '3,49',\n           'ratings': '4.8'},\n          {'comments': '425',\n           'marque': 'FRAKTA',\n           'nom': 'Grand sac',\n           'price': '0,80',\n           'ratings': '4.7'},\n          {'comments': '95',\n           'marque': 'FNISS',\n           'nom': 'Poubelle',\n           'price': '1,99',\n           'ratings': '4.7'},\n          {'comments': '130',\n           'marque': 'KRISTRUP',\n           'nom': 'Paillasson',\n           'price': '1',\n           'ratings': '4.3'}],\n 'title': 0}\n{'data': [{'comments': '121',\n           'marque': 'MULIG',\n           'nom': 'Portant',\n           'price': '9,99',\n           'ratings': '4.5'},\n          {'comments': '169',\n           'marque': 'JÄLL',\n           'nom': 'Séchoir, intérieur/extérieur',\n           'price': '5,99',\n           'ratings': '4.5'},\n          {'comments': '175',\n           'marque': 'KLUNKA',\n           'nom': 'Sac à linge',\n           'price': '7,99',\n           'ratings': '4.7'},\n          {'comments': '46',\n           'marque': 'LAGT',\n           'nom': 'Housse pour table à repasser',\n           'price': '5,99',\n           'ratings': '4.3'},\n          {'comments': '177',\n           'marque': 'FÄRGMÅRA',\n           'nom': 'Drap housse',\n           'price': '5,99',\n           'ratings': '3.6'},\n          {'comments': '99',\n           'marque': 'SILVERTOPP',\n           'nom': 'Couette, légère',\n           'price': '5,99',\n           'ratings': '4.5'},\n          {'comments': '28',\n           'marque': 'STUK',\n           'nom': 'Rangement 7 compartiments',\n           'price': '6,99',\n           'ratings': '4.7'},\n          {'comments': '113',\n           'marque': 'TORKIS',\n           'nom': 'Panier à linge souple, int/ext',\n           'price': '6,99',\n           'ratings': '4.3'},\n          {'comments': '19',\n           'marque': 'HIMLEÅN',\n           'nom': 'Serviette',\n           'price': '6,99',\n           'ratings': '4.8'},\n          {'comments': '305',\n           'marque': 'TOFTBO',\n           'nom': 'Tapis de bain',\n           'price': '8,99',\n           'ratings': '4.6'},\n          {'comments': '6',\n           'marque': 'BROGRUND',\n           'nom': 'Accessoires bain, 3 pièces',\n           'price': '6,99',\n           'ratings': '3.7'},\n          {'comments': '69',\n           'marque': 'FRÄCK',\n           'nom': 'Miroir',\n           'price': '5,99',\n           'ratings': '4.2'},\n          {'comments': '234',\n           'marque': 'VESKEN',\n           'nom': 'Étagère',\n           'price': '9,99',\n           'ratings': '4.6'},\n          {'comments': '59',\n           'marque': 'SNÄPP',\n           'nom': 'Poubelle à pédale',\n           'price': '8,99',\n           'ratings': '4.5'},\n          {'comments': '78',\n           'marque': 'FILMIS',\n           'nom': 'Horloge/thermomètre/réveil',\n           'price': '9,99',\n           'ratings': '4.5'},\n          {'comments': '89',\n           'marque': 'TJALLA',\n           'nom': 'Horloge murale',\n           'price': '7,99',\n           'ratings': '4.6'},\n          {'comments': '206',\n           'marque': 'LOTS',\n           'nom': 'Miroir',\n           'price': '6,99',\n           'ratings': '4.3'},\n          {'comments': '112',\n           'marque': 'KVOT',\n           'nom': 'Égouttoir à vaisselle',\n           'price': '9,99',\n           'ratings': '4.2'},\n          {'comments': '402',\n           'marque': 'FÖRNUFT',\n           'nom': 'Ménagère 24 pièces',\n           'price': '9,99',\n           'ratings': '4.5'},\n          {'comments': '41',\n           'marque': 'IKEA 365+',\n           'nom': 'Verre',\n           'price': '5,99',\n           'ratings': '4.6'},\n          {'comments': '240',\n           'marque': 'IKEA 365+',\n           'nom': 'Carafe+bouchon',\n           'price': '5,99',\n           'ratings': '4.4'},\n          {'comments': '57',\n           'marque': 'IKEA 365+',\n           'nom': 'Boîte de conservation',\n           'price': '5,99',\n           'ratings': '4.5'},\n          {'comments': '195',\n           'marque': 'BLANDA MATT',\n           'nom': 'Saladier',\n           'price': '6,99',\n           'ratings': '4.7'},\n          {'comments': '125',\n           'marque': 'KAVALKAD',\n           'nom': 'Casserole, lot de 3',\n           'price': '9,99',\n           'ratings': '4.3'},\n          {'comments': '68',\n           'marque': 'ÄNDLIG',\n           'nom': 'Couteau, 3 pièces',\n           'price': '5,99',\n           'ratings': '4.6'},\n          {'comments': '81',\n           'marque': 'UPPHETTA',\n           'nom': 'Cafetière/théière',\n           'price': '7,99',\n           'ratings': '4.4'},\n          {'comments': '52',\n           'marque': 'MIXTUR',\n           'nom': 'Plat /plat à four',\n           'price': '5,99',\n           'ratings': '4.7'},\n          {'comments': '156',\n           'marque': 'LÄMPLIG',\n           'nom': 'Planche à découper',\n           'price': '9,99',\n           'ratings': '4.7'},\n          {'comments': '13',\n           'marque': 'VÄGGIS',\n           'nom': 'Tableau-mémo avec punaises',\n           'price': '5,99',\n           'ratings': '4'},\n          {'comments': '30',\n           'marque': 'JANSJÖ',\n           'nom': 'Lampe USB à LED',\n           'price': '5,99',\n           'ratings': '4.4'},\n          {'comments': '9',\n           'marque': 'KVARTS',\n           'nom': 'Chargeur de piles',\n           'price': '9,99',\n           'ratings': '4'},\n          {'comments': '86',\n           'marque': 'KOPPLA',\n           'nom': 'Chargeur USB 3 ports',\n           'price': '7,99',\n           'ratings': '4.5'},\n          {'comments': '10',\n           'marque': 'FIXA',\n           'nom': 'Set de 200 vis à bois',\n           'price': '5,99',\n           'ratings': '5'},\n          {'comments': '142',\n           'marque': 'FIXA',\n           'nom': 'Lot de 17 outils',\n           'price': '8,50',\n           'ratings': '4.6'},\n          {'comments': '133',\n           'marque': 'TRAMPA',\n           'nom': 'Paillasson',\n           'price': '3,99',\n           'ratings': '4.4'},\n          {'comments': '1144',\n           'marque': 'SAMLA',\n           'nom': 'Boîte avec couvercle',\n           'price': '8,99',\n           'ratings': '4.5'},\n          {'comments': '237',\n           'marque': 'GRIMAR',\n           'nom': 'Support pour tablette',\n           'price': '9,99',\n           'ratings': '4.6'},\n          {'comments': '116',\n           'marque': 'BRÄDA',\n           'nom': 'Support ordinateur portable',\n           'price': '6,50',\n           'ratings': '4.5'}],\n 'title': 1}\n{'data': [{'comments': '190',\n           'marque': 'FROST',\n           'nom': 'Séchoir, intérieur/extérieur',\n           'price': '14,99',\n           'ratings': '4.2'},\n          {'comments': '17',\n           'marque': 'PLUMSA',\n           'nom': 'Sac à linge',\n           'price': '12,95',\n           'ratings': '4.6'},\n          {'comments': '17',\n           'marque': 'KUBBIS',\n           'nom': 'Patère 7 crochets',\n           'price': '14,99',\n           'ratings': '4.7'},\n          {'comments': '1252',\n           'marque': 'DVALA',\n           'nom': 'Drap housse',\n           'price': '11,99',\n           'ratings': '4.3'},\n          {'comments': '48',\n           'marque': 'DRAGAN',\n           'nom': 'Boîte, 3 pièces',\n           'price': '14,99',\n           'ratings': '4.7'},\n          {'comments': '23',\n           'marque': 'DYLIK',\n           'nom': 'Nappe',\n           'price': '12,99',\n           'ratings': '4.6'},\n          {'comments': '22',\n           'marque': 'STORSINT',\n           'nom': 'Verre à vin rouge',\n           'price': '12,99',\n           'ratings': '4.6'},\n          {'comments': '111',\n           'marque': 'ANNONS',\n           'nom': 'Batterie de cuisine, 3 pièces',\n           'price': '14,99',\n           'ratings': '4.1'},\n          {'comments': '53',\n           'marque': 'ORDNING',\n           'nom': 'Passoire',\n           'price': '12,99',\n           'ratings': '4.3'},\n          {'comments': '31',\n           'marque': 'IKEA 365+',\n           'nom': 'Plat à four',\n           'price': '12,99',\n           'ratings': '4.4'},\n          {'comments': '26',\n           'marque': 'IKEA 365+',\n           'nom': 'Couteau universel',\n           'price': '14,99',\n           'ratings': '4.6'},\n          {'comments': '447',\n           'marque': 'LÄMPLIG',\n           'nom': 'Planche à découper',\n           'price': '12,99',\n           'ratings': '4.5'},\n          {'comments': '181',\n           'marque': 'RIKLIG',\n           'nom': 'Théière',\n           'price': '11,99',\n           'ratings': '4.5'},\n          {'comments': '71',\n           'marque': 'VATTENTÄT',\n           'nom': 'Bouilloire',\n           'price': '14,99',\n           'ratings': '4.2'},\n          {'comments': '25',\n           'marque': 'RESGODS',\n           'nom': 'Plateau de lit',\n           'price': '14,99',\n           'ratings': '4.9'},\n          {'comments': '125',\n           'marque': 'HUTTEN',\n           'nom': 'Range-bouteilles 9 places',\n           'price': '13,49',\n           'ratings': '4.4'},\n          {'comments': '121',\n           'marque': 'VIVALLA',\n           'nom': 'Support tablette',\n           'price': '14,99',\n           'ratings': '4.7'},\n          {'comments': '254',\n           'marque': 'KNAGGLIG',\n           'nom': 'Boîte',\n           'price': '12,99',\n           'ratings': '4.6'},\n          {'comments': '4',\n           'marque': 'LANGESUND',\n           'nom': 'Miroir',\n           'price': '14,99',\n           'ratings': '3.3'},\n          {'comments': '125',\n           'marque': 'TERJE',\n           'nom': 'Chaise pliante',\n           'price': '13,95',\n           'ratings': '4.4'},\n          {'comments': '40',\n           'marque': 'KNODD',\n           'nom': 'Poubelle avec couvercle',\n           'price': '12',\n           'ratings': '4.5'},\n          {'comments': '96',\n           'marque': 'ALBERT',\n           'nom': 'Étagère',\n           'price': '12,99',\n           'ratings': '4.3'},\n          {'comments': '196',\n           'marque': 'HYLLIS',\n           'nom': 'Étagère',\n           'price': '10,99',\n           'ratings': '4.4'},\n          {'comments': '20',\n           'marque': 'SKUBB',\n           'nom': 'Rangement tissu',\n           'price': '14,99',\n           'ratings': '4.7'},\n          {'comments': '9',\n           'marque': 'SOCKERBIT',\n           'nom': 'Boîte de rangement avec couvercle',\n           'price': '14,99',\n           'ratings': '4.2'},\n          {'comments': '55',\n           'marque': 'KOPPLA',\n           'nom': 'Prise quadruple 2 ports USB',\n           'price': '14,99',\n           'ratings': '4.6'},\n          {'comments': '17',\n           'marque': 'LÖRBY',\n           'nom': 'Chargeur USB avec pince',\n           'price': '12,99',\n           'ratings': '4.4'},\n          {'comments': '7',\n           'marque': 'SÖDERGARN',\n           'nom': \"Panneau d'accrochage avec aimants\",\n           'price': '12,99',\n           'ratings': '4.6'},\n          {'comments': '64',\n           'marque': 'NÄVLINGE',\n           'nom': 'Spot à pince à LED',\n           'price': '14,99',\n           'ratings': '4.6'},\n          {'comments': '56',\n           'marque': 'STARTTID',\n           'nom': 'Bagage cabine à roulettes',\n           'price': '14,99',\n           'ratings': '4.4'},\n          {'comments': '116',\n           'marque': 'FRAKTA',\n           'nom': 'Chariot',\n           'price': '12',\n           'ratings': '4.4'},\n          {'comments': '16',\n           'marque': 'FIXA',\n           'nom': 'Niveau à bulle laser',\n           'price': '12,99',\n           'ratings': '4.4'}],\n 'title': 2}\n"
     ]
    }
   ],
   "source": [
    "for index, data in enumerate(IKEA_data):\n",
    "    json_to_import = {\n",
    "        \"title\": index,\n",
    "        \"data\": data \n",
    "    }\n",
    "    \n",
    "    # Envoi vers MongoDB\n",
    "    products.insert_one(json_to_import)\n",
    "\n",
    "    pprint(json_to_import)"
   ]
  },
  {
   "cell_type": "code",
   "execution_count": null,
   "metadata": {},
   "outputs": [],
   "source": []
  }
 ]
}